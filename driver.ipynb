{
 "cells": [
  {
   "cell_type": "code",
   "execution_count": 1,
   "metadata": {},
   "outputs": [],
   "source": [
    "import numpy as np\n",
    "import node\n",
    "from node import MakeGoal"
   ]
  },
  {
   "cell_type": "code",
   "execution_count": null,
   "metadata": {},
   "outputs": [],
   "source": [
    "# def __init__(self, BoardState, Parent, Depth, PathCost, HeuristicCost):\n",
    "\n",
    "# test 3 puzzle with UCS\n",
    "a = np.array([[1,2],\n",
    "              [3,0]])\n",
    "\n",
    "goalA = MakeGoal(3)\n",
    "\n",
    "rootA = node.Node(a, None, 0, 0, 0)\n",
    "print(rootA.GeneralSearch(rootA.UniformCost, goalA))\n"
   ]
  },
  {
   "cell_type": "code",
   "execution_count": null,
   "metadata": {},
   "outputs": [],
   "source": [
    "# Test 8 puzzle wtih UCS\n",
    "b = np.array([[1,2,3],\n",
    "              [4,5,6],\n",
    "              [7,8,0]])\n",
    "\n",
    "goalB = MakeGoal(8)\n",
    "rootB = node.Node(b, None, 0, 0, 0)\n",
    "print(rootB.GeneralSearch(rootB.UniformCost, goalB))"
   ]
  },
  {
   "cell_type": "code",
   "execution_count": 2,
   "metadata": {},
   "outputs": [
    {
     "name": "stdout",
     "output_type": "stream",
     "text": [
      "Heuristic Cost: 2, Depth: 0 \n",
      " [[1 0]\n",
      " [3 2]] \n",
      "\n",
      "Heuristic Cost: 0, Depth: 1 \n",
      " [[1 2]\n",
      " [3 0]] \n",
      "\n",
      "[[1 2]\n",
      " [3 0]]\n"
     ]
    }
   ],
   "source": [
    "# def __init__(self, BoardState, Parent, Depth, PathCost, HeuristicCost):\n",
    "# test misplaced tile heuristic with 3 puzzle\n",
    "a = np.array([[1,0],\n",
    "              [3,2]])\n",
    "\n",
    "goalA = MakeGoal(3)\n",
    "hc = np.sum(a != goalA) \n",
    "\n",
    "rootA = node.Node(a, None, 0, 0, hc)\n",
    "print(rootA.GeneralSearch(rootA.MisplacedTile, goalA))"
   ]
  },
  {
   "cell_type": "code",
   "execution_count": null,
   "metadata": {},
   "outputs": [],
   "source": [
    "# def __init__(self, BoardState, Parent, Depth, PathCost, HeuristicCost):\n",
    "# test misplaced tile heuristic with 8 puzzle\n",
    "b = np.array([[1,2,3],\n",
    "              [4,8,0],\n",
    "              [7,6,5]])\n",
    "\n",
    "goalB = MakeGoal(8)\n",
    "hc = np.sum(b != goalB)\n",
    "rootB = node.Node(b, None, 0, 0, hc)\n",
    "print(rootB.GeneralSearch(rootB.MisplacedTile, goalB))"
   ]
  }
 ],
 "metadata": {
  "kernelspec": {
   "display_name": "Python 3.9.13 64-bit (microsoft store)",
   "language": "python",
   "name": "python3"
  },
  "language_info": {
   "codemirror_mode": {
    "name": "ipython",
    "version": 3
   },
   "file_extension": ".py",
   "mimetype": "text/x-python",
   "name": "python",
   "nbconvert_exporter": "python",
   "pygments_lexer": "ipython3",
   "version": "3.9.13"
  },
  "orig_nbformat": 4,
  "vscode": {
   "interpreter": {
    "hash": "5e9be3726a3e1eb0488b4d4f640ef9d4f9840d98d40cbcadb810c3cb4446c190"
   }
  }
 },
 "nbformat": 4,
 "nbformat_minor": 2
}
