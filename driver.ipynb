{
 "cells": [
  {
   "cell_type": "code",
   "execution_count": null,
   "metadata": {},
   "outputs": [],
   "source": [
    "import numpy as np\n",
    "import node\n",
    "from node import MakeGoal\n",
    "from math import sqrt\n",
    "import time"
   ]
  },
  {
   "cell_type": "code",
   "execution_count": null,
   "metadata": {},
   "outputs": [],
   "source": [
    "# def __init__(self, BoardState, Parent, Depth, PathCost, HeuristicCost):\n",
    "\n",
    "# test 3 puzzle with UCS\n",
    "a = np.array([[1,2],\n",
    "              [3,0]])\n",
    "\n",
    "goalA = MakeGoal(3)\n",
    "\n",
    "rootA = node.Node(a, None, 0, 0, 0)\n",
    "print(rootA.GeneralSearch(rootA.UniformCost, goalA))\n"
   ]
  },
  {
   "cell_type": "code",
   "execution_count": null,
   "metadata": {},
   "outputs": [],
   "source": [
    "# Test 8 puzzle wtih UCS\n",
    "b = np.array([[1,2,3],\n",
    "              [4,5,6],\n",
    "              [7,8,0]])\n",
    "\n",
    "goalB = MakeGoal(8)\n",
    "rootB = node.Node(b, None, 0, 0, 0)\n",
    "print(rootB.GeneralSearch(rootB.UniformCost, goalB))"
   ]
  },
  {
   "cell_type": "code",
   "execution_count": null,
   "metadata": {},
   "outputs": [],
   "source": [
    "# def __init__(self, BoardState, Parent, Depth, PathCost, HeuristicCost):\n",
    "# test misplaced tile heuristic with 3 puzzle\n",
    "a = np.array([[1,0],\n",
    "              [3,2]])\n",
    "\n",
    "goalA = MakeGoal(3)\n",
    "hc = np.sum(a != goalA) \n",
    "\n",
    "rootA = node.Node(a, None, 0, 0, hc)\n",
    "print(rootA.GeneralSearch(rootA.MisplacedTile, goalA))"
   ]
  },
  {
   "cell_type": "code",
   "execution_count": null,
   "metadata": {},
   "outputs": [],
   "source": [
    "# def __init__(self, BoardState, Parent, Depth, PathCost, HeuristicCost):\n",
    "# test misplaced tile heuristic with 8 puzzle\n",
    "b = np.array([[1,2,3],\n",
    "              [4,8,0],\n",
    "              [7,6,5]])\n",
    "\n",
    "goalB = MakeGoal(8)\n",
    "hc = np.sum(b != goalB)\n",
    "rootB = node.Node(b, None, 0, 0, hc)\n",
    "print(rootB.GeneralSearch(rootB.MisplacedTile, goalB))"
   ]
  },
  {
   "cell_type": "code",
   "execution_count": null,
   "metadata": {},
   "outputs": [],
   "source": [
    "# def __init__(self, BoardState, Parent, Depth, PathCost, HeuristicCost):\n",
    "# test manhattan heuristic with 3 puzzle\n",
    "a = np.array([[1,0],\n",
    "              [3,2]])\n",
    "\n",
    "goalA = MakeGoal(3)\n",
    "\n",
    "rootA = node.Node(a, None, 0, 0, 0)\n",
    "print(rootA.GeneralSearch(rootA.Manhattan, goalA))"
   ]
  },
  {
   "cell_type": "code",
   "execution_count": null,
   "metadata": {},
   "outputs": [],
   "source": [
    "# def __init__(self, BoardState, Parent, Depth, PathCost, HeuristicCost):\n",
    "# test manhattan heuristic with 8 puzzle\n",
    "b = np.array([[4,1,2],\n",
    "              [5,3,0],\n",
    "              [7,8,6]])\n",
    "\n",
    "goalB = MakeGoal(8)\n",
    "\n",
    "rootB = node.Node(b, None, 0, 0, 0)\n",
    "print(rootB.GeneralSearch(rootB.Manhattan, goalB))"
   ]
  },
  {
   "cell_type": "code",
   "execution_count": null,
   "metadata": {},
   "outputs": [],
   "source": [
    "# def __init__(self, BoardState, Parent, Depth, PathCost, HeuristicCost):\n",
    "# test manhattan heuristic with a (harder) 8 puzzle\n",
    "b = np.array([[1,5,2],\n",
    "              [4,8,0],\n",
    "              [6,3,7]])\n",
    "\n",
    "goalB = MakeGoal(8)\n",
    "\n",
    "rootB = node.Node(b, None, 0, 0, 0)\n",
    "print(rootB.GeneralSearch(rootB.Manhattan, goalB))"
   ]
  },
  {
   "cell_type": "code",
   "execution_count": null,
   "metadata": {},
   "outputs": [],
   "source": [
    "# user constructed puzzle\n",
    "while True:\n",
    "    try:\n",
    "        value = int(input(\"Choose one of the following:\\n [1] Uniform Cost Search\\n [2] A* with misplaced tile heuristic\\n [3] A* with manhattan heuristic\"))\n",
    "    except ValueError:\n",
    "        print(\"Enter a number within the range 1-3\")\n",
    "        continue\n",
    "    if value in range(1,5):\n",
    "        break\n",
    "    else:\n",
    "        print(\"Enter a number within the range 1-3\")\n",
    "\n",
    "while True:\n",
    "    try:\n",
    "        sz = int(input(\"What size puzzle would you like to run?: \"))\n",
    "        goal = MakeGoal(sz)\n",
    "    except ValueError:\n",
    "        print(\"Try a different number\")\n",
    "        continue\n",
    "    if isinstance(goal, str):\n",
    "        print(\"Try a different number\")\n",
    "    else:\n",
    "        break\n",
    "\n",
    "print(\"Enter your initial state array (one element at a time):\\n\")\n",
    "size = int(sqrt(sz + 1))\n",
    "arr = np.empty([size, size], dtype=int)\n",
    "for i in range(size):\n",
    "    for j in range(size):\n",
    "        arr[i,j] = int(input(f\"Element at: ({i},{j})\"))\n",
    "\n",
    "print(f\"Your array:\\n {arr}\\n Goal array:\\n {goal}\\n\")\n",
    "\n",
    "if(value == 1):\n",
    "    # uniform cost\n",
    "    root = node.Node(arr, None, 0, 0, 0) \n",
    "    startTime = time.time()\n",
    "    root.GeneralSearch(root.UniformCost, goal)\n",
    "    print(\"Uniform Cost Search: %s seconds\" % ('{:.3f}'.format(time.time() - startTime)))\n",
    "elif(value == 2):\n",
    "    # misplaced tile \n",
    "    hc = np.sum(arr != goal) # heuristic cost\n",
    "    root = node.Node(arr, None, 0, 0, hc) \n",
    "    startTime = time.time()\n",
    "    root.GeneralSearch(root.MisplacedTile, goal)\n",
    "    print(\"Misplaced Tile: %s seconds\" % ('{:.3f}'.format(time.time() - startTime)))\n",
    "elif(value == 3):\n",
    "    # manhattan distance\n",
    "    root = node.Node(arr, None, 0, 0, 0) \n",
    "    startTime = time.time()\n",
    "    root.GeneralSearch(root.Manhattan, goal)\n",
    "    print(\"Manhattan: %s seconds\" % ('{:.3f}'.format(time.time() - startTime)))\n",
    "elif(value == 4):\n",
    "    # This state is for testing purposes only\n",
    "    hc = np.sum(arr != goal) # heuristic cost\n",
    "    # uniform cost\n",
    "    root = node.Node(arr, None, 0, 0, 0) \n",
    "    startTime = time.time()\n",
    "    root.GeneralSearch(root.UniformCost, goal)\n",
    "    print(\"Uniform Cost Search: %s seconds\" % ('{:.3f}'.format(time.time() - startTime)))\n",
    "    # misplaced\n",
    "    root = node.Node(arr, None, 0, 0, hc) \n",
    "    startTime = time.time()\n",
    "    root.GeneralSearch(root.MisplacedTile, goal)\n",
    "    print(\"Misplaced Tile: %s seconds\" % ('{:.3f}'.format(time.time() - startTime)))\n",
    "    # Manhattan \n",
    "    root = node.Node(arr, None, 0, 0, 0) \n",
    "    startTime = time.time()\n",
    "    root.GeneralSearch(root.Manhattan, goal)\n",
    "    print(\"Manhattan: %s seconds\" % ('{:.3f}'.format(time.time() - startTime)))\n"
   ]
  }
 ],
 "metadata": {
  "kernelspec": {
   "display_name": "Python 3.9.12 64-bit",
   "language": "python",
   "name": "python3"
  },
  "language_info": {
   "codemirror_mode": {
    "name": "ipython",
    "version": 3
   },
   "file_extension": ".py",
   "mimetype": "text/x-python",
   "name": "python",
   "nbconvert_exporter": "python",
   "pygments_lexer": "ipython3",
   "version": "3.9.12"
  },
  "orig_nbformat": 4,
  "vscode": {
   "interpreter": {
    "hash": "b0fa6594d8f4cbf19f97940f81e996739fb7646882a419484c72d19e05852a7e"
   }
  }
 },
 "nbformat": 4,
 "nbformat_minor": 2
}
